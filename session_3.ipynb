{
 "cells": [
  {
   "cell_type": "markdown",
   "id": "24b98369-c7ba-450b-a8b5-e34319000695",
   "metadata": {
    "editable": true,
    "id": "24b98369-c7ba-450b-a8b5-e34319000695",
    "tags": []
   },
   "source": [
    "# Python for Data Science\n",
    "## Session 3\n",
    "### Object Oriented Programming"
   ]
  },
  {
   "cell_type": "markdown",
   "id": "3ace1343-d73d-466d-aa07-56febbb7cbf1",
   "metadata": {
    "editable": true,
    "id": "3ace1343-d73d-466d-aa07-56febbb7cbf1",
    "tags": []
   },
   "source": [
    "---"
   ]
  },
  {
   "cell_type": "markdown",
   "id": "c5ffee69-5d4d-4f1c-9ed7-083afbc931ec",
   "metadata": {
    "editable": true,
    "id": "c5ffee69-5d4d-4f1c-9ed7-083afbc931ec",
    "tags": []
   },
   "source": [
    "## Outline\n",
    "1. Classes and objects\n",
    "2. Abstraction and Inheritance\n",
    "3. Polymorphism and Encapsulation"
   ]
  },
  {
   "cell_type": "markdown",
   "id": "aba315f4-e9bf-4a66-b3d3-593037c3ca70",
   "metadata": {
    "editable": true,
    "id": "aba315f4-e9bf-4a66-b3d3-593037c3ca70",
    "tags": []
   },
   "source": [
    "---"
   ]
  },
  {
   "cell_type": "markdown",
   "id": "8ed45dcb-2cf5-4bfa-ba6e-5da25c59757c",
   "metadata": {
    "editable": true,
    "id": "8ed45dcb-2cf5-4bfa-ba6e-5da25c59757c",
    "tags": []
   },
   "source": [
    "## Object Oriented programming\n",
    "\n",
    "In Data science there are three different types of programming paradigms:\n",
    "\n",
    "1. **Object-oriented programming** organizes code using objects that represent real-world entities. It provides modularity, code reuse and abstraction, making it suitable for handling large and complex applications.\n",
    "\n",
    "2. **Functional programming** emphasizes the use of **pure functions** that can be easily composed and reused, ideal for transforming data.\n",
    "\n",
    "3. **Declarative programming** consists in specifyin what the program should accomplish, rather than how to accomplish it.\n",
    "\n"
   ]
  },
  {
   "cell_type": "markdown",
   "id": "42f9f227-0941-4967-9a4b-c282bb0e4cfc",
   "metadata": {
    "editable": true,
    "id": "42f9f227-0941-4967-9a4b-c282bb0e4cfc",
    "tags": []
   },
   "source": [
    "**Pure functions** are functions that always produce the same output for the same input and haven't got any side effects, meaning it does not modify external states or variables."
   ]
  },
  {
   "cell_type": "markdown",
   "id": "00b01ced-eda7-423f-8522-96bd3f1a4125",
   "metadata": {
    "editable": true,
    "id": "00b01ced-eda7-423f-8522-96bd3f1a4125",
    "tags": []
   },
   "source": [
    "---"
   ]
  },
  {
   "cell_type": "markdown",
   "id": "9434c993-aac1-4655-bf69-477b9dc5d2ee",
   "metadata": {
    "editable": true,
    "id": "9434c993-aac1-4655-bf69-477b9dc5d2ee",
    "tags": []
   },
   "source": [
    "## Object Oriented programming\n",
    "\n",
    "OOP main concepts are:\n",
    "\n",
    "1. **Class**: A template to create objects.\n",
    "2. **Object**: An instance of a class, representing a specific entity.\n",
    "3. **Attributes**: Properties of an object (variables within a class that define it).\n",
    "4. **Methods**: Actions that objects can perform (functions within a class)."
   ]
  },
  {
   "cell_type": "code",
   "execution_count": 54,
   "id": "1e350f15-ae19-4323-a1c6-25d80118a5f3",
   "metadata": {
    "editable": true,
    "id": "1e350f15-ae19-4323-a1c6-25d80118a5f3",
    "tags": []
   },
   "outputs": [],
   "source": [
    "class Pet:\n",
    "    pass  # Empty class as a placeholder"
   ]
  },
  {
   "cell_type": "code",
   "execution_count": 55,
   "id": "2e427c6d-a0fc-47de-a6e8-de71ae500619",
   "metadata": {
    "editable": true,
    "id": "2e427c6d-a0fc-47de-a6e8-de71ae500619",
    "tags": []
   },
   "outputs": [],
   "source": [
    "my_pet = Pet() # Instance of a class"
   ]
  },
  {
   "cell_type": "code",
   "execution_count": 56,
   "id": "1cda9d57-aedb-4e70-af5b-7193174a2430",
   "metadata": {
    "editable": true,
    "id": "1cda9d57-aedb-4e70-af5b-7193174a2430",
    "tags": []
   },
   "outputs": [],
   "source": [
    "# Note: self refers to the instance of the class and is used to access its attributes and methods\n",
    "class Pet:\n",
    "    def __init__(self, name): # constructor\n",
    "        self.name = name"
   ]
  },
  {
   "cell_type": "code",
   "execution_count": 57,
   "id": "c4f13ca9-dd0a-4b53-8f30-5a507979b1ed",
   "metadata": {
    "editable": true,
    "id": "c4f13ca9-dd0a-4b53-8f30-5a507979b1ed",
    "tags": []
   },
   "outputs": [],
   "source": [
    "class Pet:\n",
    "    def __init__(self, name): # constructor\n",
    "        self.name = name # Instance attribute\n",
    "        self.age = None # Instance attribute set to None\n",
    "\n",
    "    def set_age(self, age): # Method\n",
    "        self.age = age"
   ]
  },
  {
   "cell_type": "markdown",
   "id": "92887f1e-c2b9-4abc-9324-af4c15250c3a",
   "metadata": {
    "editable": true,
    "id": "92887f1e-c2b9-4abc-9324-af4c15250c3a",
    "tags": []
   },
   "source": [
    "---"
   ]
  },
  {
   "cell_type": "markdown",
   "id": "d6c81e01-e268-4490-b970-b9f3d7a08d30",
   "metadata": {
    "editable": true,
    "id": "d6c81e01-e268-4490-b970-b9f3d7a08d30",
    "tags": []
   },
   "source": [
    "## Object Oriented programming\n",
    "### Abstraction\n",
    "\n",
    "Abstraction consists in hiding any variables and internal parts of an object that don’t need to be shown during interaction. Making only available the essential functionalities.\n",
    "\n",
    "You may want to call a method from an object that searches for something in an internal list, and in this case, you don't need to see the algorithm behind it, you just need to call the method and get what you want."
   ]
  },
  {
   "cell_type": "markdown",
   "id": "23e1e6b4-322a-4cd5-8a82-72877cc98804",
   "metadata": {
    "editable": true,
    "id": "23e1e6b4-322a-4cd5-8a82-72877cc98804",
    "tags": []
   },
   "source": [
    "## Object Oriented programming\n",
    "### Inheritance\n",
    "\n",
    "Inheritance permits any class to inherit attributes and methods from another class. This reduces code duplication and enables the creation of specialized classes based on general ones."
   ]
  },
  {
   "cell_type": "code",
   "execution_count": 58,
   "id": "76c58110-a965-432f-8dcf-f457079fec65",
   "metadata": {
    "editable": true,
    "id": "76c58110-a965-432f-8dcf-f457079fec65",
    "tags": []
   },
   "outputs": [],
   "source": [
    "class Pet:\n",
    "    def __init__(self, age, name): # Constructor\n",
    "        self.age = age # Attribute\n",
    "        self.name = name # Attribute\n",
    "\n",
    "    def describe(self): # Method\n",
    "        print(f\"This pet's name is {self.name}.\")\n",
    "\n",
    "class Dog(Pet):\n",
    "    def __init__(self, age, name, breed): # Constructor\n",
    "        super().__init__(age, name)  # Call the parent class's __init__ method\n",
    "        self.breed = breed # New attribute for this specialized class\n",
    "\n",
    "    def describe(self):\n",
    "        super().describe()  # Call the parent class's describe method\n",
    "        print(f\"This dog is {self.age} years old and is a {self.breed}.\")"
   ]
  },
  {
   "cell_type": "code",
   "execution_count": 59,
   "id": "48301f74-ece3-49ec-9332-2c168743ebc8",
   "metadata": {
    "editable": true,
    "id": "48301f74-ece3-49ec-9332-2c168743ebc8",
    "tags": []
   },
   "outputs": [],
   "source": [
    "my_dog = Dog(3, 'Rock', 'Great Dane')"
   ]
  },
  {
   "cell_type": "code",
   "execution_count": 60,
   "id": "eae7678f-665a-4916-96d2-3926a312aea5",
   "metadata": {
    "editable": true,
    "id": "eae7678f-665a-4916-96d2-3926a312aea5",
    "outputId": "3abb92a2-d911-43f9-bf4b-bb7ecdaf371f",
    "tags": []
   },
   "outputs": [
    {
     "name": "stdout",
     "output_type": "stream",
     "text": [
      "This pet's name is Rock.\n",
      "This dog is 3 years old and is a Great Dane.\n"
     ]
    }
   ],
   "source": [
    "my_dog.describe()"
   ]
  },
  {
   "cell_type": "markdown",
   "id": "220f9368-0c1a-4ac8-9785-a33b11e5df77",
   "metadata": {
    "editable": true,
    "id": "220f9368-0c1a-4ac8-9785-a33b11e5df77",
    "tags": []
   },
   "source": [
    "---"
   ]
  },
  {
   "cell_type": "markdown",
   "id": "88ff8053-d1d0-4c08-b8e5-6c84e94c4f24",
   "metadata": {
    "editable": true,
    "id": "88ff8053-d1d0-4c08-b8e5-6c84e94c4f24",
    "tags": []
   },
   "source": [
    "## Object Oriented programming\n",
    "### Polymorphism\n",
    "\n",
    "It allows the same method name to behave differently based on the object calling it, which can be achieved through method overriding."
   ]
  },
  {
   "cell_type": "code",
   "execution_count": 61,
   "id": "db4cd9e2-0188-4511-a81b-070221d74af5",
   "metadata": {
    "editable": true,
    "id": "db4cd9e2-0188-4511-a81b-070221d74af5",
    "tags": []
   },
   "outputs": [],
   "source": [
    "class Cat(Pet):\n",
    "    def __init__(self, age, name, breed): # Constructor\n",
    "        super().__init__(age, name)  # Call the parent class's __init__ method\n",
    "        self.breed = breed # New attribute for this specialized class\n",
    "\n",
    "    def describe(self): # Method\n",
    "        print(f\"This super cat is {self.age} years old and is a {self.breed}.\")"
   ]
  },
  {
   "cell_type": "code",
   "execution_count": 62,
   "id": "ced1143b-98db-46db-8e90-fed185aad835",
   "metadata": {
    "editable": true,
    "id": "ced1143b-98db-46db-8e90-fed185aad835",
    "outputId": "3c3d99c3-5191-40d9-a25c-9d4516c6ca93",
    "tags": []
   },
   "outputs": [
    {
     "name": "stdout",
     "output_type": "stream",
     "text": [
      "This super cat is 7 years old and is a Siamese.\n"
     ]
    }
   ],
   "source": [
    "my_cat = Cat(7, 'Bella', 'Siamese')\n",
    "my_cat.describe()"
   ]
  },
  {
   "cell_type": "markdown",
   "id": "cd327548-f048-4d39-9b72-6dff6cd6963d",
   "metadata": {
    "editable": true,
    "id": "cd327548-f048-4d39-9b72-6dff6cd6963d",
    "tags": []
   },
   "source": [
    "---"
   ]
  },
  {
   "cell_type": "markdown",
   "id": "854b31bb-2b21-42fd-939a-f82f71a549f0",
   "metadata": {
    "editable": true,
    "id": "854b31bb-2b21-42fd-939a-f82f71a549f0",
    "tags": []
   },
   "source": [
    "## Object Oriented programming\n",
    "### Encapsulation\n",
    "\n",
    "It consists in restricting access to variables and methods outside the object. This way we ensure the integrity of the data within the object.\n",
    "\n",
    "In python, prefixing a variable or method name with an underscore **_** indicates that it is intended for internal use only, while a double underscore **__** modifies the variable name for better encapsulation.\n",
    "\n",
    "It is worth mentioning that this is a convention, and variables and methods are still accessible."
   ]
  },
  {
   "cell_type": "code",
   "execution_count": 63,
   "id": "33e1bdf2-8798-41f1-9ed3-957c730dc9ad",
   "metadata": {
    "editable": true,
    "id": "33e1bdf2-8798-41f1-9ed3-957c730dc9ad",
    "tags": []
   },
   "outputs": [],
   "source": [
    "class Student:\n",
    "    def __init__(self, name, age, address=None):\n",
    "        self.name = name # Public attribute\n",
    "        self._age =   age # Private attribute\n",
    "        self._address = address  # Private attribute\n",
    "\n",
    "    def get_address(self): # Method\n",
    "        return self._address\n",
    "\n",
    "    def set_address(self, address): # Method\n",
    "        address = ''.join(filter(self._remove_special_characters, address))\n",
    "        self._address = address\n",
    "\n",
    "    def _remove_special_characters(self, character): # Private method\n",
    "        if character.isalnum() or character == ' ' or character == '-':\n",
    "            return True\n",
    "        else:\n",
    "            return False\n"
   ]
  },
  {
   "cell_type": "code",
   "execution_count": 64,
   "id": "a4e46c71-63e9-474e-91a6-9d9a323636dc",
   "metadata": {
    "editable": true,
    "id": "a4e46c71-63e9-474e-91a6-9d9a323636dc",
    "outputId": "f3fdcc29-3661-46e6-e645-397a94c9874c",
    "tags": []
   },
   "outputs": [
    {
     "name": "stdout",
     "output_type": "stream",
     "text": [
      "The student named Joan has the following address: Avinguda Buenos Aires nº 31 7e-1a\n"
     ]
    }
   ],
   "source": [
    "student = Student(\"Joan\", 24)\n",
    "student.set_address(\"Avinguda Buenos Aires nº 31! 7e-1a\")\n",
    "print(f\"The student named {student.name} has the following address: {student.get_address()}\")"
   ]
  },
  {
   "cell_type": "markdown",
   "id": "f4552012-e0e9-40af-8801-69d83733d433",
   "metadata": {
    "editable": true,
    "id": "f4552012-e0e9-40af-8801-69d83733d433",
    "tags": []
   },
   "source": [
    "---"
   ]
  },
  {
   "cell_type": "markdown",
   "id": "42f8be9a-cc71-4a58-97ac-1a54219a2d72",
   "metadata": {
    "editable": true,
    "id": "42f8be9a-cc71-4a58-97ac-1a54219a2d72",
    "tags": []
   },
   "source": [
    "## Object Oriented programming\n",
    "### Hands on\n",
    "\n",
    "Let's design a course registration system, where the requirements will be:\n",
    "\n",
    "1. Create a **Course** class, where each course has a name, a description and a list of enrolled students. You'll need to implement the next methods:\n",
    "    - Add a student to the course.\n",
    "    - Remove a student from the course.\n",
    "    - Show all students in the course."
   ]
  },
  {
   "cell_type": "code",
   "execution_count": 87,
   "id": "e5430dcf-a01a-4ea1-aff8-5bad4531ab1e",
   "metadata": {
    "editable": true,
    "id": "e5430dcf-a01a-4ea1-aff8-5bad4531ab1e",
    "tags": []
   },
   "outputs": [],
   "source": [
    "# Define a Course class to manage course details and student enrollment\n",
    "class Course:\n",
    "    # Constructor method to initialize the course name, course type and an empty list of students\n",
    "    def __init__(self, name, course_type):\n",
    "        self.name = name\n",
    "        self.course_type = course_type\n",
    "        self.students = []\n",
    "\n",
    "# Method to add a student to the course :\n",
    "    def add_student(self, student):                      \n",
    "        self.students.append(student)\n",
    "        print(f\"{student} is added to the list.\")\n",
    "    \n",
    "# Method to remove a student from the course :\n",
    "    def remove_student(self, student):                  \n",
    "        self.students.remove(student)\n",
    "        print(f\"{student} is removed from the list.\")\n",
    "\n",
    "# Method to show all students in the course :\n",
    "    def show_students(self):                            \n",
    "        print(\"Enrolled students:\",\",\".join(self.students))\n",
    "    \n"
   ]
  },
  {
   "cell_type": "code",
   "execution_count": 83,
   "id": "4d85930e",
   "metadata": {},
   "outputs": [
    {
     "name": "stdout",
     "output_type": "stream",
     "text": [
      "Alice is added to the list.\n",
      "Bob is added to the list.\n",
      "Enrolled students: Alice,Bob\n",
      "Alice is removed from the list.\n",
      "Enrolled students: Bob\n"
     ]
    }
   ],
   "source": [
    "# Example\n",
    "# Create an instance of the Course class with course name\n",
    "course1 = Course(\"Python Programming\", \"AI\")\n",
    "# Add a student named \"Alice\" to the course\n",
    "course1.add_student(\"Alice\")\n",
    "# Add a student named \"Bob\" to the course\n",
    "course1.add_student(\"Bob\")\n",
    "# Display the list of currently enrolled students \n",
    "course1.show_students()\n",
    "# Remove the student named \"Alice\" from the course\n",
    "course1.remove_student(\"Alice\")\n",
    "#Display the updated list of students\n",
    "course1.show_students()"
   ]
  },
  {
   "cell_type": "markdown",
   "id": "16cc578c-9fe3-4478-81da-3071e3adb318",
   "metadata": {
    "editable": true,
    "id": "16cc578c-9fe3-4478-81da-3071e3adb318",
    "tags": []
   },
   "source": [
    "## Object Oriented programming\n",
    "### Hands on\n",
    "\n",
    "2. Create a **Student** class, where each student has a name, ID number, address and a list of enrolled courses with the following methods:\n",
    "    - Enroll in a course.\n",
    "    - Drop a course.\n",
    "    - Show all registered student courses."
   ]
  },
  {
   "cell_type": "code",
   "execution_count": 86,
   "id": "fe4cce31-1ddf-4847-bc8d-924dc3e0dfe1",
   "metadata": {
    "editable": true,
    "id": "fe4cce31-1ddf-4847-bc8d-924dc3e0dfe1",
    "tags": []
   },
   "outputs": [],
   "source": [
    "# Define a Student Class to manage student details and course enrollment \n",
    "class Student:\n",
    "    # Constructor method to initialize the student's name, ID, address, and address and an empty list\n",
    "    def __init__(self, name, student_id, address):\n",
    "        self.name = name\n",
    "        self.student_id = student_id\n",
    "        self.address = address\n",
    "        self.courses = []\n",
    "\n",
    "# Method to enroll in a course :\n",
    "    def enroll(self, course_name):\n",
    "        self.courses.append(course_name)\n",
    "        print(f\"Enrolled in {course_name}.\")\n",
    "\n",
    "# Method to drop a course :\n",
    "    def drop(self, course_name):\n",
    "        self.courses.remove(course_name)\n",
    "        print(f\"Not enrolled in {course_name}.\")\n",
    "\n",
    "# Method to show all registered student courses :\n",
    "    def show_courses(self):\n",
    "        print(\"Courses:\" , \",\".join(self.courses))        \n"
   ]
  },
  {
   "cell_type": "code",
   "execution_count": 82,
   "id": "fc7dfa8e",
   "metadata": {},
   "outputs": [
    {
     "name": "stdout",
     "output_type": "stream",
     "text": [
      "Enrolled in Math 101.\n",
      "Enrolled in Physics 101.\n",
      "Courses: Math 101,Physics 101\n",
      "Not enrolled in Math 101.\n",
      "Courses: Physics 101\n"
     ]
    }
   ],
   "source": [
    "# Example\n",
    "# Create an instance of the Student class\n",
    "student1 = Student(\"Alice\", \"S12345\", \"123 Main St\")\n",
    "# Enroll student 1 in the courses\n",
    "student1.enroll(\"Math 101\")\n",
    "student1.enroll(\"Physics 101\")\n",
    "# Display the list of courses the student is currently enrolled in\n",
    "student1.show_courses()\n",
    "# Drop the course\n",
    "student1.drop(\"Math 101\")\n",
    "# Display the updated list of courses\n",
    "student1.show_courses()"
   ]
  },
  {
   "cell_type": "markdown",
   "id": "5c54b2fe-691f-4520-b8d6-2515ba92b808",
   "metadata": {
    "editable": true,
    "id": "5c54b2fe-691f-4520-b8d6-2515ba92b808",
    "tags": []
   },
   "source": [
    "## Object Oriented programming\n",
    "### Hands on\n",
    "\n",
    "3. Create a central class that manages courses and students, **Registration** class, where you have a list of students and a list of courses, and methods:\n",
    "    - Enroll in a course.\n",
    "    - Drop a course.\n",
    "    - Show all the enrolled courses.\n",
    "    - Show all the students."
   ]
  },
  {
   "cell_type": "code",
   "execution_count": 84,
   "id": "863f30c7-3cf8-4ac9-8599-e7df8e0d483c",
   "metadata": {
    "editable": true,
    "id": "863f30c7-3cf8-4ac9-8599-e7df8e0d483c",
    "tags": []
   },
   "outputs": [],
   "source": [
    "# Define a Registration class to manage course enrollments and student records\n",
    "class Registration:\n",
    "    #Constructor method to initialize the Registration with an empty list of students and empty dictionary for courses\n",
    "    def __init__(self):\n",
    "        self.students = []\n",
    "        self.courses = {}\n",
    "\n",
    "# Method to enroll in a course :\n",
    "    def enroll(self, student_name, course_name):\n",
    "        self.courses.setdefault(course_name, []).append(student_name)\n",
    "        self.students.append(student_name)\n",
    "        print(f\"{student_name} enrolled in {course_name}.\")\n",
    "\n",
    "# Method to drop a course :\n",
    "    def drop(self, student_name, course_name):\n",
    "        self.courses[course_name].remove(student_name)\n",
    "        print(f\"{student_name} dropped from {course_name}.\")\n",
    "\n",
    "# Method to show all enrolled courses :\n",
    "    def show_courses(self):\n",
    "        for course, students in self.courses.items():\n",
    "            print(\"Students:\", \",\".join(self.students))\n",
    "\n",
    "# Method to show all students:\n",
    "    def show_students(self):\n",
    "        print(\"Students:\", \", \".join(self.students))\n"
   ]
  },
  {
   "cell_type": "code",
   "execution_count": 85,
   "id": "1dab6c2a",
   "metadata": {},
   "outputs": [
    {
     "name": "stdout",
     "output_type": "stream",
     "text": [
      "Alice enrolled in Math 101.\n",
      "Bob enrolled in Math 101.\n",
      "Students: Alice,Bob\n",
      "Alice dropped from Math 101.\n",
      "Students: Alice,Bob\n",
      "Students: Alice, Bob\n"
     ]
    }
   ],
   "source": [
    "# Example \n",
    "# Create an instance of the class\n",
    "reg = Registration()\n",
    "# Enroll student in a course\n",
    "reg.enroll(\"Alice\", \"Math 101\")\n",
    "reg.enroll(\"Bob\", \"Math 101\")\n",
    "# Display all the course\n",
    "reg.show_courses()\n",
    "# Drop a student from the course\n",
    "reg.drop(\"Alice\", \"Math 101\")\n",
    "# Display the updated list of the courses and students \n",
    "reg.show_courses()\n",
    "# Display the list of all registered students\n",
    "reg.show_students()\n"
   ]
  },
  {
   "cell_type": "markdown",
   "id": "2958b01b-3472-4c95-ae1f-771edc638749",
   "metadata": {
    "editable": true,
    "id": "2958b01b-3472-4c95-ae1f-771edc638749",
    "tags": []
   },
   "source": [
    "## Object Oriented programming\n",
    "### Howework\n",
    "\n",
    "4. Let's add grades to each student's course and create method that yields the GPA given a student name or ID."
   ]
  },
  {
   "cell_type": "code",
   "execution_count": 88,
   "id": "86ee85fb",
   "metadata": {},
   "outputs": [],
   "source": [
    "# Define a Registration class to manage students enrollment, course registration, grades and GPA calculation\n",
    "class Registration:\n",
    "    # Constructor method to initialize an empty dictionary for students\n",
    "    def __init__(self):\n",
    "        self.students = {}  \n",
    "\n",
    "# Method to add students :\n",
    "    def add_student(self, student_id, name):\n",
    "        self.students[student_id] = {\"name\": name, \"courses\": {}} \n",
    "\n",
    "# Method to enroll in a subject :\n",
    "    def enroll(self, student_id, course_name):\n",
    "        if student_id in self.students:\n",
    "            self.students[student_id][\"courses\"][course_name] = None  \n",
    "            print(f'{self.students[student_id][\"name\"]} enrolled in {course_name}')\n",
    "        else:\n",
    "            print(f\"Student with ID {student_id} not found\")\n",
    "\n",
    "# Method to add a grade :\n",
    "    def add_grade(self, student_id, course_name, grade):\n",
    "        if student_id in self.students and course_name in self.students[student_id][\"courses\"]:\n",
    "            self.students[student_id][\"courses\"][course_name] = grade  \n",
    "            print(f'Grade {grade} added for {self.students[student_id][\"name\"]} in {course_name}')\n",
    "        else:\n",
    "            print(\"Student or course not found\")\n",
    "\n",
    "# Method to calculate gpa :\n",
    "    def calculate_gpa(self, student_id):\n",
    "        if student_id in self.students:\n",
    "            grades = [grade for grade in self.students[student_id][\"courses\"].values() if grade is not None]\n",
    "            if not grades:\n",
    "                return 0.0\n",
    "            gpa = round(sum(grades) / len(grades), 2)  \n",
    "            return gpa\n",
    "        else:\n",
    "            print(\"Student not found\")\n",
    "            return None"
   ]
  },
  {
   "cell_type": "code",
   "execution_count": 89,
   "id": "56a68cdf",
   "metadata": {},
   "outputs": [
    {
     "name": "stdout",
     "output_type": "stream",
     "text": [
      "Alice enrolled in Math 101\n",
      "Alice enrolled in Physics 101\n",
      "Grade 95 added for Alice in Math 101\n",
      "Grade 85 added for Alice in Physics 101\n",
      "Alice's GPA: 90.0\n"
     ]
    }
   ],
   "source": [
    "# Example \n",
    "# Create an instance of class\n",
    "reg = Registration()\n",
    "# Add students to class\n",
    "reg.add_student(\"S123\", \"Alice\")\n",
    "# Enroll students and add grades\n",
    "reg.enroll(\"S123\", \"Math 101\")\n",
    "reg.enroll(\"S123\", \"Physics 101\")\n",
    "reg.add_grade(\"S123\", \"Math 101\", 95)\n",
    "reg.add_grade(\"S123\", \"Physics 101\", 85)\n",
    "# Get and print GPA\n",
    "print(f\"Alice's GPA: {reg.calculate_gpa('S123')}\")\n",
    "\n",
    "\n"
   ]
  },
  {
   "cell_type": "markdown",
   "id": "76c565a9-dc30-464c-980d-d522cd5246f4",
   "metadata": {
    "editable": true,
    "id": "76c565a9-dc30-464c-980d-d522cd5246f4",
    "tags": []
   },
   "source": [
    "## That's all!"
   ]
  },
  {
   "cell_type": "markdown",
   "id": "b5095b98",
   "metadata": {},
   "source": []
  }
 ],
 "metadata": {
  "colab": {
   "provenance": []
  },
  "kernelspec": {
   "display_name": "base",
   "language": "python",
   "name": "python3"
  },
  "language_info": {
   "codemirror_mode": {
    "name": "ipython",
    "version": 3
   },
   "file_extension": ".py",
   "mimetype": "text/x-python",
   "name": "python",
   "nbconvert_exporter": "python",
   "pygments_lexer": "ipython3",
   "version": "3.12.2"
  }
 },
 "nbformat": 4,
 "nbformat_minor": 5
}
