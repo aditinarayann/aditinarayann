{
 "cells": [
  {
   "cell_type": "code",
   "execution_count": 7,
   "metadata": {},
   "outputs": [
    {
     "name": "stdout",
     "output_type": "stream",
     "text": [
      "1\n",
      "2\n",
      "Frizz\n",
      "4\n",
      "Buzz\n",
      "Frizz\n",
      "7\n",
      "8\n",
      "Frizz\n",
      "Buzz\n",
      "11\n",
      "Frizz\n",
      "13\n",
      "14\n",
      "FizzBuzz\n",
      "16\n",
      "17\n",
      "Frizz\n",
      "19\n",
      "Buzz\n"
     ]
    }
   ],
   "source": [
    "# Exercise 1:\n",
    "# Define the function fizzbuzz which takes an integer n as input\n",
    "def fizzbuzz(n):\n",
    "\n",
    "    # Loop through numbers from 1 to n (inclusive)\n",
    "    for n in range(1,n+1):\n",
    "        \n",
    "        # Check if the number is divisible by both 3 and and 5\n",
    "        if n % 3 == 0 and n % 5 == 0:\n",
    "            # If true, print \"Fizzbuzz\"\n",
    "            print(\"FizzBuzz\")\n",
    "\n",
    "            # Check if the number is divisible by 3\n",
    "        elif n % 3 == 0:\n",
    "            # If true, print \"Fizz\"\n",
    "            print(\"Frizz\")\n",
    "\n",
    "            # Check if the number is divisible by 5\n",
    "        elif n % 5 == 0:\n",
    "            # If true, print \"Buzz\"\n",
    "            print(\"Buzz\")\n",
    "\n",
    "            # If the number is not divisble by 3 or 5, print the number itself\n",
    "        else:\n",
    "            print(n)\n",
    "\n",
    "# Call the fizzbuzz function with n = 20         \n",
    "fizzbuzz(20)\n"
   ]
  },
  {
   "cell_type": "code",
   "execution_count": 1,
   "metadata": {},
   "outputs": [
    {
     "name": "stdout",
     "output_type": "stream",
     "text": [
      "The integers list is: [42, 14]\n"
     ]
    }
   ],
   "source": [
    "# Exercise 2:\n",
    "# Define a mixed list with different data types (integers, string, float)\n",
    "mixed_list = [42, 'hello', 3.14, 'aditi', 14]\n",
    "\n",
    "# Use list comprehension to create a new list (integers_list) that only contains integers from mixed_list\n",
    "integers_list = [item for item in mixed_list if type(item)== int]\n",
    "\n",
    "# Print the list of integers extracted from the mixed list\n",
    "print(\"The integers list is:\", integers_list)"
   ]
  },
  {
   "cell_type": "code",
   "execution_count": 2,
   "metadata": {},
   "outputs": [
    {
     "name": "stdout",
     "output_type": "stream",
     "text": [
      "To do List: ['Go to Marcadonna']\n"
     ]
    }
   ],
   "source": [
    "# Exercise 3 :\n",
    "# Initialie an empty list to store the tasks\n",
    "todo_list = []\n",
    "\n",
    "# Define a function to add a task to the todo_list\n",
    "def add_task(task):\n",
    "    # Append the given task to the todo_list\n",
    "    todo_list.append(task)\n",
    "\n",
    "# Define a function to display the current tasks in the todo_list    \n",
    "def show_tasks():\n",
    "\n",
    "    # Check if the todo_list is empty\n",
    "    if not todo_list:\n",
    "        # If the list is empty, print the message\n",
    "        print(\"No tasks in the list.\")\n",
    "\n",
    "    else:\n",
    "        \n",
    "        # If there are tasks, print the list\n",
    "        print(\"To do List:\" , todo_list)\n",
    "\n",
    "# Add a task \"Go to Marcodonna\" to the todo_list\n",
    "add_task(\"Go to Marcadonna\")\n",
    "\n",
    "# Call the function to display the tasks in the todo_list\n",
    "show_tasks()"
   ]
  },
  {
   "cell_type": "code",
   "execution_count": 3,
   "metadata": {},
   "outputs": [
    {
     "name": "stdout",
     "output_type": "stream",
     "text": [
      "Converted temperature in farenheit: 71.6\n",
      "Converted temperature in farenheit: 114.8\n",
      "Converted temperature in farenheit: 123.8\n",
      "Converted temperature in farenheit: 168.8\n"
     ]
    }
   ],
   "source": [
    "# Exercise 4:\n",
    "# Define a dunction that converts a temperature from Celsius to Fahrenheit\n",
    "def celsius_to_fahrenheit(celsius):\n",
    "    \n",
    "    # Formula to convert Celsius to Fahrenheit \n",
    "    fahrenheit = (9/5 * celsius) + 32\n",
    "    #Print the converted temperature in Fahrenheit\n",
    "    print(\"Converted temperature in farenheit:\" , fahrenheit)\n",
    "\n",
    "# Call the function with various Celsius values to display the corresponding Fahrenheit temperatures\n",
    "celsius_to_fahrenheit(22) # Example 1\n",
    "celsius_to_fahrenheit(46) # Example 2\n",
    "celsius_to_fahrenheit(51) # Example 3\n",
    "celsius_to_fahrenheit(76) # Example 4\n",
    "    "
   ]
  },
  {
   "cell_type": "code",
   "execution_count": null,
   "metadata": {},
   "outputs": [],
   "source": []
  }
 ],
 "metadata": {
  "kernelspec": {
   "display_name": "Python 3",
   "language": "python",
   "name": "python3"
  },
  "language_info": {
   "codemirror_mode": {
    "name": "ipython",
    "version": 3
   },
   "file_extension": ".py",
   "mimetype": "text/x-python",
   "name": "python",
   "nbconvert_exporter": "python",
   "pygments_lexer": "ipython3",
   "version": "3.10.15"
  }
 },
 "nbformat": 4,
 "nbformat_minor": 2
}
