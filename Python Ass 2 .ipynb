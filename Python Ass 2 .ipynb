{
 "cells": [
  {
   "cell_type": "code",
   "execution_count": 7,
   "metadata": {},
   "outputs": [
    {
     "name": "stdout",
     "output_type": "stream",
     "text": [
      "1\n",
      "2\n",
      "Frizz\n",
      "4\n",
      "Buzz\n",
      "Frizz\n",
      "7\n",
      "8\n",
      "Frizz\n",
      "Buzz\n",
      "11\n",
      "Frizz\n",
      "13\n",
      "14\n",
      "FizzBuzz\n",
      "16\n",
      "17\n",
      "Frizz\n",
      "19\n",
      "Buzz\n"
     ]
    }
   ],
   "source": [
    "#Exercise 1:\n",
    "def fizzbuzz(n):\n",
    "    for n in range(1,n+1):\n",
    "        if n % 3 == 0 and n % 5 == 0:\n",
    "            print(\"FizzBuzz\")\n",
    "        elif n % 3 == 0:\n",
    "            print(\"Frizz\")\n",
    "        elif n % 5 == 0:\n",
    "            print(\"Buzz\")\n",
    "        else:\n",
    "            print(n)\n",
    "fizzbuzz(20)\n"
   ]
  },
  {
   "cell_type": "code",
   "execution_count": 1,
   "metadata": {},
   "outputs": [
    {
     "name": "stdout",
     "output_type": "stream",
     "text": [
      "The integers list is: [42, 14]\n"
     ]
    }
   ],
   "source": [
    "#Exercise 2:\n",
    "mixed_list = [42, 'hello', 3.14, 'aditi', 14]\n",
    "integers_list = [item for item in mixed_list if type(item)== int]\n",
    "print(\"The integers list is:\", integers_list)"
   ]
  },
  {
   "cell_type": "code",
   "execution_count": 2,
   "metadata": {},
   "outputs": [
    {
     "name": "stdout",
     "output_type": "stream",
     "text": [
      "To do List: ['Go to Marcadonna']\n"
     ]
    }
   ],
   "source": [
    "todo_list = []\n",
    "def add_task(task):\n",
    "    todo_list.append(task)\n",
    "def show_tasks():\n",
    "    if not todo_list:\n",
    "        print(\"No tasks in the list.\")\n",
    "    else:\n",
    "        print(\"To do List:\" , todo_list)\n",
    "add_task(\"Go to Marcadonna\")\n",
    "show_tasks()"
   ]
  },
  {
   "cell_type": "code",
   "execution_count": 3,
   "metadata": {},
   "outputs": [
    {
     "name": "stdout",
     "output_type": "stream",
     "text": [
      "Converted temperature in farenheit: 71.6\n",
      "Converted temperature in farenheit: 114.8\n",
      "Converted temperature in farenheit: 123.8\n",
      "Converted temperature in farenheit: 168.8\n"
     ]
    }
   ],
   "source": [
    "def celsius_to_fahrenheit(celsius):\n",
    "    fahrenheit = (9/5 * celsius) + 32\n",
    "    print(\"Converted temperature in farenheit:\" , fahrenheit)\n",
    "\n",
    "celsius_to_fahrenheit(22)\n",
    "celsius_to_fahrenheit(46)\n",
    "celsius_to_fahrenheit(51)\n",
    "celsius_to_fahrenheit(76)\n",
    "    "
   ]
  },
  {
   "cell_type": "code",
   "execution_count": null,
   "metadata": {},
   "outputs": [],
   "source": []
  }
 ],
 "metadata": {
  "kernelspec": {
   "display_name": "Python 3",
   "language": "python",
   "name": "python3"
  },
  "language_info": {
   "codemirror_mode": {
    "name": "ipython",
    "version": 3
   },
   "file_extension": ".py",
   "mimetype": "text/x-python",
   "name": "python",
   "nbconvert_exporter": "python",
   "pygments_lexer": "ipython3",
   "version": "3.10.15"
  }
 },
 "nbformat": 4,
 "nbformat_minor": 2
}
