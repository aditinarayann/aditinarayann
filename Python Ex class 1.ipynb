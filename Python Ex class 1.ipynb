{
 "cells": [
  {
   "cell_type": "code",
   "execution_count": 291,
   "id": "85942bc1-2f8f-4ad3-89ce-51910c2da9a6",
   "metadata": {},
   "outputs": [
    {
     "name": "stdout",
     "output_type": "stream",
     "text": [
      "Hello, Python!.\n"
     ]
    }
   ],
   "source": [
    "#Excersie1\n",
    "print('Hello, Python!.')"
   ]
  },
  {
   "cell_type": "code",
   "execution_count": 289,
   "id": "f7ed633f-e9e3-40d3-b931-ecfdfc746c60",
   "metadata": {},
   "outputs": [
    {
     "name": "stdout",
     "output_type": "stream",
     "text": [
      "Sum: 8\n",
      "Difference: 2\n",
      "Product: 15\n",
      "Quotient: 1.6666666666666667\n"
     ]
    }
   ],
   "source": [
    "#Excercise2\n",
    "a = 5\n",
    "b = 3\n",
    "sum = a + b\n",
    "difference = a - b\n",
    "product = a * b\n",
    "quotient = a / b\n",
    "print('Sum:', sum)\n",
    "print('Difference:', difference)\n",
    "print('Product:', product)\n",
    "print('Quotient:', quotient)"
   ]
  },
  {
   "cell_type": "code",
   "execution_count": 215,
   "id": "90c21965-5135-42c9-8680-1a5b94efbf4b",
   "metadata": {},
   "outputs": [
    {
     "name": "stdout",
     "output_type": "stream",
     "text": [
      "Hello, Aditi!\n"
     ]
    }
   ],
   "source": [
    "#Excercise3\n",
    "name = \"Aditi\"\n",
    "print(f'Hello, {name}!')"
   ]
  },
  {
   "cell_type": "code",
   "execution_count": 287,
   "id": "42de630d-0a10-40da-9bdb-693567fea4e4",
   "metadata": {},
   "outputs": [
    {
     "name": "stdout",
     "output_type": "stream",
     "text": [
      "Universities: ['ESADE', 'UAB', 'UIB', 'UOC', 'IE', 'MIT']\n",
      "ESADE MIT\n"
     ]
    }
   ],
   "source": [
    "#Excercise4\n",
    "universities = ['ESADE','UAB','UIB','UOC','IE','MIT']\n",
    "print(\"Universities:\", universities)\n",
    "print(universities[0] , universities[5])"
   ]
  },
  {
   "cell_type": "code",
   "execution_count": 285,
   "id": "75382d7c-cb22-4d4a-9557-0181a3259bc1",
   "metadata": {},
   "outputs": [
    {
     "name": "stdout",
     "output_type": "stream",
     "text": [
      "Name: Piyush\n",
      "Age: 26\n",
      "Grade: B\n"
     ]
    }
   ],
   "source": [
    "#Excercise5\n",
    "students = {\n",
    "    \"Name\": \"Piyush\",\n",
    "    \"Age\" : 26,\n",
    "    \"Grade\" :  \"B\"\n",
    "}\n",
    "for key, value in students.items():\n",
    "    print(f\"{key}: {value}\")"
   ]
  },
  {
   "cell_type": "code",
   "execution_count": 223,
   "id": "ce5e3a71-5ba3-457d-989e-54388f7d993e",
   "metadata": {},
   "outputs": [
    {
     "name": "stdout",
     "output_type": "stream",
     "text": [
      "Coordinates: (9, 2)\n",
      "X coordinate: 9\n",
      "Y coordinate: 2\n"
     ]
    }
   ],
   "source": [
    "#Excercise6\n",
    "coordinates = (9,2)\n",
    "print(\"Coordinates:\",coordinates)\n",
    "x = coordinates[0]\n",
    "y = coordinates[1]\n",
    "print(\"X coordinate:\", x)\n",
    "print(\"Y coordinate:\", y)"
   ]
  },
  {
   "cell_type": "code",
   "execution_count": 225,
   "id": "5d66ac34-63b1-4b8b-b974-de3709628280",
   "metadata": {},
   "outputs": [
    {
     "name": "stdout",
     "output_type": "stream",
     "text": [
      "{'red', 'blue', 'green'}\n",
      "{'red', 'blue', 'green', 'black'}\n",
      "{'red', 'blue', 'green', 'black'}\n",
      "{'red', 'green', 'black'}\n",
      "{'yellow', 'green', 'white', 'red', 'blue', 'black'}\n"
     ]
    }
   ],
   "source": [
    "#Excercise7\n",
    "colors = {'red','green','blue'}\n",
    "print(colors)\n",
    "colors.add('black')\n",
    "print(colors)\n",
    "colors.add('black')\n",
    "print(colors)\n",
    "colors.remove('blue')\n",
    "print(colors)\n",
    "light_colors = {'white','yellow','blue'}\n",
    "merged_set = colors.union(light_colors)\n",
    "print(merged_set)\n"
   ]
  },
  {
   "cell_type": "code",
   "execution_count": 227,
   "id": "27073a39-d7ae-4b9a-bf22-db37063414d8",
   "metadata": {},
   "outputs": [
    {
     "name": "stdin",
     "output_type": "stream",
     "text": [
      "Number:  3.5\n"
     ]
    },
    {
     "name": "stdout",
     "output_type": "stream",
     "text": [
      "Number is positive.\n"
     ]
    }
   ],
   "source": [
    "#Excercise8\n",
    "Number = float(input(\"Number: \"))\n",
    "if Number > 0:\n",
    "    print(\"Number is positive.\")\n",
    "elif Number < 0:\n",
    "    print(\"Number is negative.\")\n",
    "else:\n",
    "    print(\"Number is zero.\")"
   ]
  },
  {
   "cell_type": "code",
   "execution_count": 243,
   "id": "d469342c-886e-4ebe-b7ab-3c5739a5d7c0",
   "metadata": {},
   "outputs": [
    {
     "name": "stdout",
     "output_type": "stream",
     "text": [
      "1\n",
      "2\n",
      "3\n",
      "4\n",
      "5\n"
     ]
    }
   ],
   "source": [
    "#Excercise9\n",
    "Numbers = [1,2,3,4,5]\n",
    "for Number in Numbers:\n",
    "    print(Number)"
   ]
  },
  {
   "cell_type": "code",
   "execution_count": 231,
   "id": "1524346a-3fd1-4782-a00e-3d33ea6e0a27",
   "metadata": {},
   "outputs": [
    {
     "name": "stdout",
     "output_type": "stream",
     "text": [
      "1\n",
      "2\n",
      "3\n",
      "4\n",
      "5\n"
     ]
    }
   ],
   "source": [
    "#Excercise10\n",
    "Number = 1\n",
    "while Number <= 5:\n",
    "    print(Number)\n",
    "    Number += 1"
   ]
  },
  {
   "cell_type": "code",
   "execution_count": 235,
   "id": "376f5ab5-54e3-48ae-83d0-7ff5e595d4b9",
   "metadata": {},
   "outputs": [
    {
     "name": "stdin",
     "output_type": "stream",
     "text": [
      "Enter grade: (A,B,C,D,E or F)  C\n"
     ]
    },
    {
     "name": "stdout",
     "output_type": "stream",
     "text": [
      "Fair.\n"
     ]
    }
   ],
   "source": [
    "#Excercise11\n",
    "grade = input(\"Enter grade: (A,B,C,D,E or F) \")\n",
    "match grade:\n",
    "   case \"A\":\n",
    "    print(\"Excellent!\")\n",
    "   case \"B\":\n",
    "    print(\"Good job!\")\n",
    "   case \"C\":\n",
    "    print(\"Fair.\")\n",
    "   case \"D\":\n",
    "    print(\"Needs improvement.\")\n",
    "   case \"F\":\n",
    "    print(\"Failing.\")\n",
    "   case _:\n",
    "    print(\"Invalid grade.\")"
   ]
  },
  {
   "cell_type": "code",
   "execution_count": 239,
   "id": "3cda4bb7-9e7e-408b-b410-b4df50dc4328",
   "metadata": {},
   "outputs": [
    {
     "name": "stdout",
     "output_type": "stream",
     "text": [
      "Hello, Aditi!\n"
     ]
    }
   ],
   "source": [
    "#Excercise12\n",
    "def greet(name):\n",
    "    print(f\"Hello, {name}!\")\n",
    "greet(\"Aditi\")"
   ]
  },
  {
   "cell_type": "code",
   "execution_count": 263,
   "id": "944cd2b0-d3b5-4f28-93ad-205917aeb700",
   "metadata": {},
   "outputs": [
    {
     "name": "stdout",
     "output_type": "stream",
     "text": [
      "Sqaure of 2: 4\n",
      "Sqaure of 9: 81\n"
     ]
    }
   ],
   "source": [
    "#Excercise13\n",
    "def sqaure(number):\n",
    "    return number * number\n",
    "\n",
    "print(\"Sqaure of 2:\", sqaure(2))\n",
    "print(\"Sqaure of 9:\", sqaure(9))"
   ]
  },
  {
   "cell_type": "code",
   "execution_count": 261,
   "id": "d1091df6-7916-492b-a871-22930c6a9ba5",
   "metadata": {},
   "outputs": [
    {
     "name": "stdout",
     "output_type": "stream",
     "text": [
      "a=5, b=2 =  10\n",
      "a=7, b=1 =  7\n"
     ]
    }
   ],
   "source": [
    "#Excercise14\n",
    "def multiply(a,b=1):\n",
    "    return a * b\n",
    "    \n",
    "print(\"a=5, b=2 = \", multiply(5,2))\n",
    "print(\"a=7, b=1 = \", multiply(7))"
   ]
  },
  {
   "cell_type": "code",
   "execution_count": 267,
   "id": "54597985-6d36-43c8-8011-f838cf5bc6f4",
   "metadata": {},
   "outputs": [
    {
     "name": "stdout",
     "output_type": "stream",
     "text": [
      "Numbers:  [1, 2, 3, 4, 5, 6, 7, 8, 9, 10]\n",
      "Squares:  [1, 4, 9, 16, 25, 36, 49, 64, 81, 100]\n"
     ]
    }
   ],
   "source": [
    "#Excercise15\n",
    "numbers = [1,2,3,4,5,6,7,8,9,10]\n",
    "print(\"Numbers: \", numbers)\n",
    "squares = [number ** 2 for number in numbers]\n",
    "print(\"Squares: \", squares)"
   ]
  },
  {
   "cell_type": "code",
   "execution_count": 303,
   "id": "36dd7119-2101-497a-adee-bf85a2106fc2",
   "metadata": {},
   "outputs": [
    {
     "name": "stdout",
     "output_type": "stream",
     "text": [
      "Aditi's Average grade: 82.0\n",
      "Matt's Average grade: 86.0\n",
      "John's Average grade: 79.33333333333333\n"
     ]
    }
   ],
   "source": [
    "#Excercise16\n",
    "students_grades = {\n",
    "    \"Aditi\": [82, 92, 72],\n",
    "    \"Matt\": [77, 98, 83],\n",
    "    \"John\": [70, 81, 87],\n",
    "    \n",
    "}\n",
    "\n",
    "def average_grades(students_grades):\n",
    "    for student, grades in students_grades.items():\n",
    "        total = 0 \n",
    "        for grade in grades: \n",
    "            total += grade  \n",
    "        average_grade = total / len(grades) \n",
    "        print(f\"{student}'s Average grade: {average_grade}\") \n",
    "\n",
    "average_grades(students_grades)"
   ]
  },
  {
   "cell_type": "code",
   "execution_count": 293,
   "id": "96689525-c16b-49df-884b-7b4203d172d4",
   "metadata": {},
   "outputs": [
    {
     "name": "stdin",
     "output_type": "stream",
     "text": [
      "Number 1:  20\n",
      "Number 2:  4.9\n",
      "Operator: (+,-,*,/):  *\n"
     ]
    },
    {
     "name": "stdout",
     "output_type": "stream",
     "text": [
      "Result: 98.0\n"
     ]
    }
   ],
   "source": [
    "#Excercise17\n",
    "def calculate(number1, number2, operator):\n",
    "    if operator == '+':\n",
    "     return number1 + number2\n",
    "    elif operator == '-':\n",
    "     return number1 - number2\n",
    "    elif operator == '*':\n",
    "     return number1 * number2\n",
    "    elif operator == '/':\n",
    "     return number1/number2\n",
    "\n",
    "    else :\n",
    "     return \"Invalid operator\"\n",
    "\n",
    "number1 = float(input(\"Number 1: \"))\n",
    "number2 = float(input(\"Number 2: \"))\n",
    "operator = input(\"Operator: (+,-,*,/): \")\n",
    "result = calculate(number1, number2, operator)\n",
    "print(\"Result:\", result)"
   ]
  },
  {
   "cell_type": "code",
   "execution_count": null,
   "id": "56297a56-b172-403d-acb9-9cfe2301ece0",
   "metadata": {},
   "outputs": [],
   "source": []
  }
 ],
 "metadata": {
  "kernelspec": {
   "display_name": "Python 3 (ipykernel)",
   "language": "python",
   "name": "python3"
  },
  "language_info": {
   "codemirror_mode": {
    "name": "ipython",
    "version": 3
   },
   "file_extension": ".py",
   "mimetype": "text/x-python",
   "name": "python",
   "nbconvert_exporter": "python",
   "pygments_lexer": "ipython3",
   "version": "3.12.4"
  }
 },
 "nbformat": 4,
 "nbformat_minor": 5
}
